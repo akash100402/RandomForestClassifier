{
 "cells": [
  {
   "cell_type": "code",
   "execution_count": 1,
   "id": "6250c663",
   "metadata": {},
   "outputs": [],
   "source": [
    "import pandas as pd\n",
    "import numpy as np\n",
    "from sklearn.ensemble import RandomForestClassifier\n",
    "from sklearn.preprocessing import LabelEncoder\n",
    "from sklearn.model_selection import train_test_split\n",
    "from sklearn.metrics import classification_report, confusion_matrix\n",
    "import matplotlib.pyplot as plt"
   ]
  },
  {
   "cell_type": "code",
   "execution_count": 2,
   "id": "b24389f9",
   "metadata": {},
   "outputs": [],
   "source": [
    "def load_and_preprocess_data(filepath):\n",
    "    \"\"\"Load and preprocess the ITSM data.\"\"\"\n",
    "    df = pd.read_csv(filepath, low_memory=False)\n",
    "    \n",
    "    # Create binary target (High Priority = 1 if Priority is 1 or 2)\n",
    "    df['Priority_Label'] = df['Priority'].apply(lambda x: 1 if x in [1, 2] else 0)\n",
    "    \n",
    "    # Drop irrelevant/leak-prone columns\n",
    "    drop_cols = ['Priority', 'Incident_ID', 'Close_Time', \n",
    "                 'Impact', 'Urgency', 'Open_Time', 'Reopen_Time']\n",
    "    df = df.drop(columns=[col for col in drop_cols if col in df.columns], errors='ignore')\n",
    "    \n",
    "    # Fill missing values and encode categorical variables\n",
    "    df = df.fillna(\"Unknown\")\n",
    "    label_encoders = {}\n",
    "    \n",
    "    for col in df.select_dtypes(include=['object', 'category']).columns:\n",
    "        df[col] = df[col].astype(str)\n",
    "        le = LabelEncoder()\n",
    "        df[col] = le.fit_transform(df[col])\n",
    "        label_encoders[col] = le\n",
    "    \n",
    "    return df, label_encoders"
   ]
  },
  {
   "cell_type": "code",
   "execution_count": 3,
   "id": "8557c66e",
   "metadata": {},
   "outputs": [],
   "source": [
    "def train_evaluate_model(X, y, test_size=0.3, random_state=42):\n",
    "    \"\"\"Train and evaluate Random Forest classifier.\"\"\"\n",
    "    X_train, X_test, y_train, y_test = train_test_split(\n",
    "        X, y, test_size=test_size, random_state=random_state\n",
    "    )\n",
    "    \n",
    "    clf = RandomForestClassifier(\n",
    "        n_estimators=100, \n",
    "        class_weight='balanced', \n",
    "        random_state=random_state\n",
    "    )\n",
    "    clf.fit(X_train, y_train)\n",
    "    \n",
    "    y_pred = clf.predict(X_test)\n",
    "    \n",
    "    print(\"Confusion Matrix:\")\n",
    "    print(confusion_matrix(y_test, y_pred))\n",
    "    print(\"\\nClassification Report:\")\n",
    "    print(classification_report(y_test, y_pred))\n",
    "    \n",
    "    return clf, X_test.columns"
   ]
  },
  {
   "cell_type": "code",
   "execution_count": 4,
   "id": "2183f8e3",
   "metadata": {},
   "outputs": [],
   "source": [
    "def plot_feature_importance(clf, feature_names, top_n=10):\n",
    "    \"\"\"Plot top N feature importances.\"\"\"\n",
    "    feat_importances = pd.Series(clf.feature_importances_, index=feature_names)\n",
    "    feat_importances.nlargest(top_n).plot(kind='barh')\n",
    "    plt.title(f\"Top {top_n} Feature Importances\")\n",
    "    plt.show()"
   ]
  },
  {
   "cell_type": "code",
   "execution_count": 5,
   "id": "dde8fd68",
   "metadata": {},
   "outputs": [
    {
     "name": "stdout",
     "output_type": "stream",
     "text": [
      "Confusion Matrix:\n",
      "[[13732    40]\n",
      " [  130    80]]\n",
      "\n",
      "Classification Report:\n",
      "              precision    recall  f1-score   support\n",
      "\n",
      "           0       0.99      1.00      0.99     13772\n",
      "           1       0.67      0.38      0.48       210\n",
      "\n",
      "    accuracy                           0.99     13982\n",
      "   macro avg       0.83      0.69      0.74     13982\n",
      "weighted avg       0.99      0.99      0.99     13982\n",
      "\n"
     ]
    },
    {
     "data": {
      "image/png": "[encoded data removed]",
      "text/plain": [
       "<Figure size 640x480 with 1 Axes>"
      ]
     },
     "metadata": {},
     "output_type": "display_data"
    }
   ],
   "source": [
    "# Main execution\n",
    "if __name__ == \"__main__\":\n",
    "    # 1. Load and preprocess data\n",
    "    df, label_encoders = load_and_preprocess_data(\"ITSM_data.csv\")\n",
    "    \n",
    "    # 2. Prepare features and target\n",
    "    X = df.drop('Priority_Label', axis=1)\n",
    "    y = df['Priority_Label']\n",
    "    \n",
    "    # 3. Train and evaluate model\n",
    "    clf, feature_names = train_evaluate_model(X, y)\n",
    "    \n",
    "    # 4. Visualize feature importance\n",
    "    plot_feature_importance(clf, feature_names)"
   ]
  },
  {
   "cell_type": "code",
   "execution_count": null,
   "id": "b5f0ff30",
   "metadata": {},
   "outputs": [],
   "source": []
  }
 ],
 "metadata": {
  "kernelspec": {
   "display_name": ".venv",
   "language": "python",
   "name": "python3"
  },
  "language_info": {
   "codemirror_mode": {
    "name": "ipython",
    "version": 3
   },
   "file_extension": ".py",
   "mimetype": "text/x-python",
   "name": "python",
   "nbconvert_exporter": "python",
   "pygments_lexer": "ipython3",
   "version": "3.12.6"
  }
 },
 "nbformat": 4,
 "nbformat_minor": 5
}
