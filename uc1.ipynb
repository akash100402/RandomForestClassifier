{
 "cells": [
  {
   "cell_type": "code",
   "execution_count": 6,
   "id": "0dcd4307",
   "metadata": {},
   "outputs": [],
   "source": [
    "import pandas as pd\n",
    "import numpy as np\n",
    "import matplotlib as mpl\n",
    "import matplotlib.pyplot as plt"
   ]
  },
  {
   "cell_type": "code",
   "execution_count": 7,
   "id": "364abe58",
   "metadata": {},
   "outputs": [
    {
     "name": "stdout",
     "output_type": "stream",
     "text": [
      "(46606, 25)\n"
     ]
    },
    {
     "name": "stderr",
     "output_type": "stream",
     "text": [
      "C:\\Users\\akash\\AppData\\Local\\Temp\\ipykernel_13644\\3335545329.py:1: DtypeWarning: Columns (7) have mixed types. Specify dtype option on import or set low_memory=False.\n",
      "  df = pd.read_csv(\"ITSM_data.csv\")\n"
     ]
    }
   ],
   "source": [
    "df = pd.read_csv(\"ITSM_data.csv\")\n",
    "print(df.shape)"
   ]
  },
  {
   "cell_type": "code",
   "execution_count": null,
   "id": "644eb3b4",
   "metadata": {},
   "outputs": [
    {
     "name": "stdout",
     "output_type": "stream",
     "text": [
      "     CI_Name          CI_Cat              CI_Subcat        WBS Incident_ID  \\\n",
      "0  SUB000508  subapplication  Web Based Application  WBS000162   IM0000004   \n",
      "1  WBA000124     application  Web Based Application  WBS000088   IM0000005   \n",
      "2  DTA000024     application    Desktop Application  WBS000092   IM0000006   \n",
      "3  WBA000124     application  Web Based Application  WBS000088   IM0000011   \n",
      "4  WBA000124     application  Web Based Application  WBS000088   IM0000012   \n",
      "\n",
      "   Status Impact Urgency  Priority  number_cnt  ...      Reopen_Time  \\\n",
      "0  Closed      4       4       4.0    0.601292  ...              NaN   \n",
      "1  Closed      3       3       3.0    0.415050  ...  2/12/2023 12:31   \n",
      "2  Closed     NS       3       NaN    0.517551  ...              NaN   \n",
      "3  Closed      4       4       4.0    0.642927  ...              NaN   \n",
      "4  Closed      4       4       4.0    0.345258  ...              NaN   \n",
      "\n",
      "      Resolved_Time        Close_Time  Handle_Time_hrs  \\\n",
      "0   4/11/2023 13:50   4/11/2023 13:51   3,87,16,91,111   \n",
      "1   2/12/2023 12:36   2/12/2023 12:36   4,35,47,86,389   \n",
      "2  13-01-2024 15:12  13-01-2024 15:13   4,84,31,19,444   \n",
      "3  14-11-2023 09:31  14-11-2023 09:31   4,32,18,33,333   \n",
      "4   8/11/2023 13:55   8/11/2023 13:55   3,38,39,03,333   \n",
      "\n",
      "                   Closure_Code No_of_Related_Interactions  \\\n",
      "0                         Other                        1.0   \n",
      "1                      Software                        1.0   \n",
      "2  No error - works as designed                        1.0   \n",
      "3                Operator error                        1.0   \n",
      "4                         Other                        1.0   \n",
      "\n",
      "  Related_Interaction No_of_Related_Incidents No_of_Related_Changes  \\\n",
      "0           SD0000007                     2.0                   NaN   \n",
      "1           SD0000011                     1.0                   NaN   \n",
      "2           SD0000017                     NaN                   NaN   \n",
      "3           SD0000025                     NaN                   NaN   \n",
      "4           SD0000029                     NaN                   NaN   \n",
      "\n",
      "  Related_Change  \n",
      "0            NaN  \n",
      "1            NaN  \n",
      "2            NaN  \n",
      "3            NaN  \n",
      "4            NaN  \n",
      "\n",
      "[5 rows x 25 columns]\n"
     ]
    }
   ],
   "source": [
    "print(df.head())\n",
    "\n"
   ]
  },
  {
   "cell_type": "code",
   "execution_count": 8,
   "id": "628cb5be",
   "metadata": {},
   "outputs": [
    {
     "data": {
      "text/html": [
       "<div>\n",
       "<style scoped>\n",
       "    .dataframe tbody tr th:only-of-type {\n",
       "        vertical-align: middle;\n",
       "    }\n",
       "\n",
       "    .dataframe tbody tr th {\n",
       "        vertical-align: top;\n",
       "    }\n",
       "\n",
       "    .dataframe thead th {\n",
       "        text-align: right;\n",
       "    }\n",
       "</style>\n",
       "<table border=\"1\" class=\"dataframe\">\n",
       "  <thead>\n",
       "    <tr style=\"text-align: right;\">\n",
       "      <th></th>\n",
       "      <th>Missing count</th>\n",
       "    </tr>\n",
       "  </thead>\n",
       "  <tbody>\n",
       "    <tr>\n",
       "      <th>CI_Cat</th>\n",
       "      <td>111</td>\n",
       "    </tr>\n",
       "    <tr>\n",
       "      <th>CI_Subcat</th>\n",
       "      <td>111</td>\n",
       "    </tr>\n",
       "    <tr>\n",
       "      <th>Priority</th>\n",
       "      <td>1380</td>\n",
       "    </tr>\n",
       "    <tr>\n",
       "      <th>No_of_Reassignments</th>\n",
       "      <td>1</td>\n",
       "    </tr>\n",
       "    <tr>\n",
       "      <th>Reopen_Time</th>\n",
       "      <td>44322</td>\n",
       "    </tr>\n",
       "    <tr>\n",
       "      <th>Resolved_Time</th>\n",
       "      <td>1780</td>\n",
       "    </tr>\n",
       "    <tr>\n",
       "      <th>Handle_Time_hrs</th>\n",
       "      <td>1</td>\n",
       "    </tr>\n",
       "    <tr>\n",
       "      <th>Closure_Code</th>\n",
       "      <td>460</td>\n",
       "    </tr>\n",
       "    <tr>\n",
       "      <th>No_of_Related_Interactions</th>\n",
       "      <td>114</td>\n",
       "    </tr>\n",
       "    <tr>\n",
       "      <th>No_of_Related_Incidents</th>\n",
       "      <td>45384</td>\n",
       "    </tr>\n",
       "    <tr>\n",
       "      <th>No_of_Related_Changes</th>\n",
       "      <td>46046</td>\n",
       "    </tr>\n",
       "    <tr>\n",
       "      <th>Related_Change</th>\n",
       "      <td>46046</td>\n",
       "    </tr>\n",
       "  </tbody>\n",
       "</table>\n",
       "</div>"
      ],
      "text/plain": [
       "                            Missing count\n",
       "CI_Cat                                111\n",
       "CI_Subcat                             111\n",
       "Priority                             1380\n",
       "No_of_Reassignments                     1\n",
       "Reopen_Time                         44322\n",
       "Resolved_Time                        1780\n",
       "Handle_Time_hrs                         1\n",
       "Closure_Code                          460\n",
       "No_of_Related_Interactions            114\n",
       "No_of_Related_Incidents             45384\n",
       "No_of_Related_Changes               46046\n",
       "Related_Change                      46046"
      ]
     },
     "execution_count": 8,
     "metadata": {},
     "output_type": "execute_result"
    }
   ],
   "source": [
    "NAs = pd.concat([df.isnull().sum()], axis = 1, keys = [\"Missing count\"])\n",
    "NAs[NAs.sum(axis=1)>0]"
   ]
  },
  {
   "cell_type": "code",
   "execution_count": null,
   "id": "3ba8c5be",
   "metadata": {},
   "outputs": [],
   "source": []
  }
 ],
 "metadata": {
  "kernelspec": {
   "display_name": ".venv",
   "language": "python",
   "name": "python3"
  },
  "language_info": {
   "codemirror_mode": {
    "name": "ipython",
    "version": 3
   },
   "file_extension": ".py",
   "mimetype": "text/x-python",
   "name": "python",
   "nbconvert_exporter": "python",
   "pygments_lexer": "ipython3",
   "version": "3.12.6"
  }
 },
 "nbformat": 4,
 "nbformat_minor": 5
}
