{
 "cells": [
  {
   "cell_type": "code",
   "execution_count": 57,
   "id": "0dcd4307",
   "metadata": {},
   "outputs": [],
   "source": [
    "import pandas as pd\n",
    "import numpy as np\n",
    "import matplotlib as mpl\n",
    "import matplotlib.pyplot as plt"
   ]
  },
  {
   "cell_type": "code",
   "execution_count": 58,
   "id": "364abe58",
   "metadata": {},
   "outputs": [
    {
     "name": "stdout",
     "output_type": "stream",
     "text": [
      "(46606, 25)\n"
     ]
    },
    {
     "name": "stderr",
     "output_type": "stream",
     "text": [
      "C:\\Users\\akash\\AppData\\Local\\Temp\\ipykernel_13644\\3335545329.py:1: DtypeWarning: Columns (7) have mixed types. Specify dtype option on import or set low_memory=False.\n",
      "  df = pd.read_csv(\"ITSM_data.csv\")\n"
     ]
    }
   ],
   "source": [
    "df = pd.read_csv(\"ITSM_data.csv\")\n",
    "print(df.shape)"
   ]
  },
  {
   "cell_type": "code",
   "execution_count": 59,
   "id": "644eb3b4",
   "metadata": {},
   "outputs": [
    {
     "name": "stdout",
     "output_type": "stream",
     "text": [
      "     CI_Name          CI_Cat              CI_Subcat        WBS Incident_ID  \\\n",
      "0  SUB000508  subapplication  Web Based Application  WBS000162   IM0000004   \n",
      "1  WBA000124     application  Web Based Application  WBS000088   IM0000005   \n",
      "2  DTA000024     application    Desktop Application  WBS000092   IM0000006   \n",
      "3  WBA000124     application  Web Based Application  WBS000088   IM0000011   \n",
      "4  WBA000124     application  Web Based Application  WBS000088   IM0000012   \n",
      "\n",
      "   Status Impact Urgency  Priority  number_cnt  ...      Reopen_Time  \\\n",
      "0  Closed      4       4       4.0    0.601292  ...              NaN   \n",
      "1  Closed      3       3       3.0    0.415050  ...  2/12/2023 12:31   \n",
      "2  Closed     NS       3       NaN    0.517551  ...              NaN   \n",
      "3  Closed      4       4       4.0    0.642927  ...              NaN   \n",
      "4  Closed      4       4       4.0    0.345258  ...              NaN   \n",
      "\n",
      "      Resolved_Time        Close_Time  Handle_Time_hrs  \\\n",
      "0   4/11/2023 13:50   4/11/2023 13:51   3,87,16,91,111   \n",
      "1   2/12/2023 12:36   2/12/2023 12:36   4,35,47,86,389   \n",
      "2  13-01-2024 15:12  13-01-2024 15:13   4,84,31,19,444   \n",
      "3  14-11-2023 09:31  14-11-2023 09:31   4,32,18,33,333   \n",
      "4   8/11/2023 13:55   8/11/2023 13:55   3,38,39,03,333   \n",
      "\n",
      "                   Closure_Code No_of_Related_Interactions  \\\n",
      "0                         Other                        1.0   \n",
      "1                      Software                        1.0   \n",
      "2  No error - works as designed                        1.0   \n",
      "3                Operator error                        1.0   \n",
      "4                         Other                        1.0   \n",
      "\n",
      "  Related_Interaction No_of_Related_Incidents No_of_Related_Changes  \\\n",
      "0           SD0000007                     2.0                   NaN   \n",
      "1           SD0000011                     1.0                   NaN   \n",
      "2           SD0000017                     NaN                   NaN   \n",
      "3           SD0000025                     NaN                   NaN   \n",
      "4           SD0000029                     NaN                   NaN   \n",
      "\n",
      "  Related_Change  \n",
      "0            NaN  \n",
      "1            NaN  \n",
      "2            NaN  \n",
      "3            NaN  \n",
      "4            NaN  \n",
      "\n",
      "[5 rows x 25 columns]\n"
     ]
    }
   ],
   "source": [
    "print(df.head())\n",
    "\n"
   ]
  },
  {
   "cell_type": "code",
   "execution_count": 60,
   "id": "628cb5be",
   "metadata": {},
   "outputs": [
    {
     "data": {
      "text/html": [
       "<div>\n",
       "<style scoped>\n",
       "    .dataframe tbody tr th:only-of-type {\n",
       "        vertical-align: middle;\n",
       "    }\n",
       "\n",
       "    .dataframe tbody tr th {\n",
       "        vertical-align: top;\n",
       "    }\n",
       "\n",
       "    .dataframe thead th {\n",
       "        text-align: right;\n",
       "    }\n",
       "</style>\n",
       "<table border=\"1\" class=\"dataframe\">\n",
       "  <thead>\n",
       "    <tr style=\"text-align: right;\">\n",
       "      <th></th>\n",
       "      <th>Missing count</th>\n",
       "    </tr>\n",
       "  </thead>\n",
       "  <tbody>\n",
       "    <tr>\n",
       "      <th>CI_Cat</th>\n",
       "      <td>111</td>\n",
       "    </tr>\n",
       "    <tr>\n",
       "      <th>CI_Subcat</th>\n",
       "      <td>111</td>\n",
       "    </tr>\n",
       "    <tr>\n",
       "      <th>Priority</th>\n",
       "      <td>1380</td>\n",
       "    </tr>\n",
       "    <tr>\n",
       "      <th>No_of_Reassignments</th>\n",
       "      <td>1</td>\n",
       "    </tr>\n",
       "    <tr>\n",
       "      <th>Reopen_Time</th>\n",
       "      <td>44322</td>\n",
       "    </tr>\n",
       "    <tr>\n",
       "      <th>Resolved_Time</th>\n",
       "      <td>1780</td>\n",
       "    </tr>\n",
       "    <tr>\n",
       "      <th>Handle_Time_hrs</th>\n",
       "      <td>1</td>\n",
       "    </tr>\n",
       "    <tr>\n",
       "      <th>Closure_Code</th>\n",
       "      <td>460</td>\n",
       "    </tr>\n",
       "    <tr>\n",
       "      <th>No_of_Related_Interactions</th>\n",
       "      <td>114</td>\n",
       "    </tr>\n",
       "    <tr>\n",
       "      <th>No_of_Related_Incidents</th>\n",
       "      <td>45384</td>\n",
       "    </tr>\n",
       "    <tr>\n",
       "      <th>No_of_Related_Changes</th>\n",
       "      <td>46046</td>\n",
       "    </tr>\n",
       "    <tr>\n",
       "      <th>Related_Change</th>\n",
       "      <td>46046</td>\n",
       "    </tr>\n",
       "  </tbody>\n",
       "</table>\n",
       "</div>"
      ],
      "text/plain": [
       "                            Missing count\n",
       "CI_Cat                                111\n",
       "CI_Subcat                             111\n",
       "Priority                             1380\n",
       "No_of_Reassignments                     1\n",
       "Reopen_Time                         44322\n",
       "Resolved_Time                        1780\n",
       "Handle_Time_hrs                         1\n",
       "Closure_Code                          460\n",
       "No_of_Related_Interactions            114\n",
       "No_of_Related_Incidents             45384\n",
       "No_of_Related_Changes               46046\n",
       "Related_Change                      46046"
      ]
     },
     "execution_count": 60,
     "metadata": {},
     "output_type": "execute_result"
    }
   ],
   "source": [
    "NAs = pd.concat([df.isnull().sum()], axis = 1, keys = [\"Missing count\"])\n",
    "NAs[NAs.sum(axis=1)>0]"
   ]
  },
  {
   "cell_type": "code",
   "execution_count": 61,
   "id": "3ba8c5be",
   "metadata": {},
   "outputs": [],
   "source": [
    "df['Priority_Group'] = df['Priority'].apply(\n",
    "    lambda x: 'P1' if x in [1, 2] else ('P2' if x in [3, 4, 5] else 'Others')\n",
    ")"
   ]
  },
  {
   "cell_type": "code",
   "execution_count": 62,
   "id": "4455762b",
   "metadata": {},
   "outputs": [
    {
     "name": "stdout",
     "output_type": "stream",
     "text": [
      "  Handle_Time_hrs  Handle_Time_hrs_clean\n",
      "0  3,87,16,91,111                    3.0\n",
      "1  4,35,47,86,389                    4.0\n",
      "2     0,071666667                    0.0\n",
      "3     0,116944444                    0.0\n",
      "4             NaN                    1.5\n"
     ]
    },
    {
     "name": "stderr",
     "output_type": "stream",
     "text": [
      "C:\\Users\\akash\\AppData\\Local\\Temp\\ipykernel_13644\\1560450894.py:31: FutureWarning: A value is trying to be set on a copy of a DataFrame or Series through chained assignment using an inplace method.\n",
      "The behavior will change in pandas 3.0. This inplace method will never work because the intermediate object on which we are setting values always behaves as a copy.\n",
      "\n",
      "For example, when doing 'df[col].method(value, inplace=True)', try using 'df.method({col: value}, inplace=True)' or df[col] = df[col].method(value) instead, to perform the operation inplace on the original object.\n",
      "\n",
      "\n",
      "  df['Handle_Time_hrs_clean'].fillna(df['Handle_Time_hrs_clean'].median(), inplace=True)\n"
     ]
    }
   ],
   "source": [
    "import pandas as pd\n",
    "import numpy as np\n",
    "\n",
    "# Sample data (replace with your actual column)\n",
    "df = pd.DataFrame({\n",
    "    'Handle_Time_hrs': [\n",
    "        '3,87,16,91,111', \n",
    "        '4,35,47,86,389', \n",
    "        '0,071666667', \n",
    "        '0,116944444',\n",
    "        np.nan  # Handle missing values\n",
    "    ]\n",
    "})\n",
    "\n",
    "# Step 1: Extract first value from comma-separated lists\n",
    "def clean_handle_time(time_str):\n",
    "    if pd.isna(time_str):\n",
    "        return np.nan\n",
    "    parts = time_str.split(',')\n",
    "    # Case 1: Single decimal (e.g., \"0,071666667\")\n",
    "    if len(parts) == 1:\n",
    "        return float(parts[0].replace(',', '.')) if ',' in parts[0] else float(parts[0])\n",
    "    # Case 2: List (e.g., \"3,87,16,91,111\")\n",
    "    else:\n",
    "        return float(parts[0])  # Take the first value\n",
    "\n",
    "# Step 2: Apply the function\n",
    "df['Handle_Time_hrs_clean'] = df['Handle_Time_hrs'].apply(clean_handle_time)\n",
    "\n",
    "# Step 3: Impute missing values (if needed)\n",
    "df['Handle_Time_hrs_clean'].fillna(df['Handle_Time_hrs_clean'].median(), inplace=True)\n",
    "\n",
    "print(df)"
   ]
  },
  {
   "cell_type": "code",
   "execution_count": 63,
   "id": "91265c64",
   "metadata": {},
   "outputs": [
    {
     "name": "stderr",
     "output_type": "stream",
     "text": [
      "C:\\Users\\akash\\AppData\\Local\\Temp\\ipykernel_13644\\105978234.py:1: DtypeWarning: Columns (7) have mixed types. Specify dtype option on import or set low_memory=False.\n",
      "  df = pd.read_csv(\"ITSM_data.csv\")\n"
     ]
    },
    {
     "name": "stdout",
     "output_type": "stream",
     "text": [
      "['CI_Name', 'CI_Cat', 'CI_Subcat', 'WBS', 'Incident_ID', 'Status', 'Impact', 'Urgency', 'Priority', 'number_cnt', 'Category', 'KB_number', 'Alert_Status', 'No_of_Reassignments', 'Open_Time', 'Reopen_Time', 'Resolved_Time', 'Close_Time', 'Handle_Time_hrs', 'Closure_Code', 'No_of_Related_Interactions', 'Related_Interaction', 'No_of_Related_Incidents', 'No_of_Related_Changes', 'Related_Change']\n"
     ]
    }
   ],
   "source": [
    "df = pd.read_csv(\"ITSM_data.csv\")\n",
    "print(df.columns.tolist())\n"
   ]
  },
  {
   "cell_type": "code",
   "execution_count": 64,
   "id": "09b84c6c",
   "metadata": {},
   "outputs": [],
   "source": [
    "df['Open_Time'] = pd.to_datetime(df['Open_Time'], errors='coerce')"
   ]
  },
  {
   "cell_type": "code",
   "execution_count": 65,
   "id": "04b1bb1a",
   "metadata": {},
   "outputs": [],
   "source": [
    "df['Open_Day'] = df['Open_Time'].dt.day\n",
    "df['Open_Hour'] = df['Open_Time'].dt.hour"
   ]
  },
  {
   "cell_type": "code",
   "execution_count": 66,
   "id": "12ea77b0",
   "metadata": {},
   "outputs": [
    {
     "ename": "KeyError",
     "evalue": "'Priority_Group'",
     "output_type": "error",
     "traceback": [
      "\u001b[31m---------------------------------------------------------------------------\u001b[39m",
      "\u001b[31mKeyError\u001b[39m                                  Traceback (most recent call last)",
      "\u001b[36mFile \u001b[39m\u001b[32mc:\\Users\\akash\\Desktop\\genAI\\.venv\\Lib\\site-packages\\pandas\\core\\indexes\\base.py:3812\u001b[39m, in \u001b[36mIndex.get_loc\u001b[39m\u001b[34m(self, key)\u001b[39m\n\u001b[32m   3811\u001b[39m \u001b[38;5;28;01mtry\u001b[39;00m:\n\u001b[32m-> \u001b[39m\u001b[32m3812\u001b[39m     \u001b[38;5;28;01mreturn\u001b[39;00m \u001b[38;5;28;43mself\u001b[39;49m\u001b[43m.\u001b[49m\u001b[43m_engine\u001b[49m\u001b[43m.\u001b[49m\u001b[43mget_loc\u001b[49m\u001b[43m(\u001b[49m\u001b[43mcasted_key\u001b[49m\u001b[43m)\u001b[49m\n\u001b[32m   3813\u001b[39m \u001b[38;5;28;01mexcept\u001b[39;00m \u001b[38;5;167;01mKeyError\u001b[39;00m \u001b[38;5;28;01mas\u001b[39;00m err:\n",
      "\u001b[36mFile \u001b[39m\u001b[32mpandas/_libs/index.pyx:167\u001b[39m, in \u001b[36mpandas._libs.index.IndexEngine.get_loc\u001b[39m\u001b[34m()\u001b[39m\n",
      "\u001b[36mFile \u001b[39m\u001b[32mpandas/_libs/index.pyx:196\u001b[39m, in \u001b[36mpandas._libs.index.IndexEngine.get_loc\u001b[39m\u001b[34m()\u001b[39m\n",
      "\u001b[36mFile \u001b[39m\u001b[32mpandas/_libs/hashtable_class_helper.pxi:7088\u001b[39m, in \u001b[36mpandas._libs.hashtable.PyObjectHashTable.get_item\u001b[39m\u001b[34m()\u001b[39m\n",
      "\u001b[36mFile \u001b[39m\u001b[32mpandas/_libs/hashtable_class_helper.pxi:7096\u001b[39m, in \u001b[36mpandas._libs.hashtable.PyObjectHashTable.get_item\u001b[39m\u001b[34m()\u001b[39m\n",
      "\u001b[31mKeyError\u001b[39m: 'Priority_Group'",
      "\nThe above exception was the direct cause of the following exception:\n",
      "\u001b[31mKeyError\u001b[39m                                  Traceback (most recent call last)",
      "\u001b[36mCell\u001b[39m\u001b[36m \u001b[39m\u001b[32mIn[66]\u001b[39m\u001b[32m, line 2\u001b[39m\n\u001b[32m      1\u001b[39m X = df[[\u001b[33m'\u001b[39m\u001b[33mImpact\u001b[39m\u001b[33m'\u001b[39m, \u001b[33m'\u001b[39m\u001b[33mUrgency\u001b[39m\u001b[33m'\u001b[39m, \u001b[33m'\u001b[39m\u001b[33mHandle_Time_hrs\u001b[39m\u001b[33m'\u001b[39m, \u001b[33m'\u001b[39m\u001b[33mOpen_Day\u001b[39m\u001b[33m'\u001b[39m, \u001b[33m'\u001b[39m\u001b[33mOpen_Hour\u001b[39m\u001b[33m'\u001b[39m]]\n\u001b[32m----> \u001b[39m\u001b[32m2\u001b[39m y = \u001b[43mdf\u001b[49m\u001b[43m[\u001b[49m\u001b[33;43m'\u001b[39;49m\u001b[33;43mPriority_Group\u001b[39;49m\u001b[33;43m'\u001b[39;49m\u001b[43m]\u001b[49m\n",
      "\u001b[36mFile \u001b[39m\u001b[32mc:\\Users\\akash\\Desktop\\genAI\\.venv\\Lib\\site-packages\\pandas\\core\\frame.py:4107\u001b[39m, in \u001b[36mDataFrame.__getitem__\u001b[39m\u001b[34m(self, key)\u001b[39m\n\u001b[32m   4105\u001b[39m \u001b[38;5;28;01mif\u001b[39;00m \u001b[38;5;28mself\u001b[39m.columns.nlevels > \u001b[32m1\u001b[39m:\n\u001b[32m   4106\u001b[39m     \u001b[38;5;28;01mreturn\u001b[39;00m \u001b[38;5;28mself\u001b[39m._getitem_multilevel(key)\n\u001b[32m-> \u001b[39m\u001b[32m4107\u001b[39m indexer = \u001b[38;5;28;43mself\u001b[39;49m\u001b[43m.\u001b[49m\u001b[43mcolumns\u001b[49m\u001b[43m.\u001b[49m\u001b[43mget_loc\u001b[49m\u001b[43m(\u001b[49m\u001b[43mkey\u001b[49m\u001b[43m)\u001b[49m\n\u001b[32m   4108\u001b[39m \u001b[38;5;28;01mif\u001b[39;00m is_integer(indexer):\n\u001b[32m   4109\u001b[39m     indexer = [indexer]\n",
      "\u001b[36mFile \u001b[39m\u001b[32mc:\\Users\\akash\\Desktop\\genAI\\.venv\\Lib\\site-packages\\pandas\\core\\indexes\\base.py:3819\u001b[39m, in \u001b[36mIndex.get_loc\u001b[39m\u001b[34m(self, key)\u001b[39m\n\u001b[32m   3814\u001b[39m     \u001b[38;5;28;01mif\u001b[39;00m \u001b[38;5;28misinstance\u001b[39m(casted_key, \u001b[38;5;28mslice\u001b[39m) \u001b[38;5;129;01mor\u001b[39;00m (\n\u001b[32m   3815\u001b[39m         \u001b[38;5;28misinstance\u001b[39m(casted_key, abc.Iterable)\n\u001b[32m   3816\u001b[39m         \u001b[38;5;129;01mand\u001b[39;00m \u001b[38;5;28many\u001b[39m(\u001b[38;5;28misinstance\u001b[39m(x, \u001b[38;5;28mslice\u001b[39m) \u001b[38;5;28;01mfor\u001b[39;00m x \u001b[38;5;129;01min\u001b[39;00m casted_key)\n\u001b[32m   3817\u001b[39m     ):\n\u001b[32m   3818\u001b[39m         \u001b[38;5;28;01mraise\u001b[39;00m InvalidIndexError(key)\n\u001b[32m-> \u001b[39m\u001b[32m3819\u001b[39m     \u001b[38;5;28;01mraise\u001b[39;00m \u001b[38;5;167;01mKeyError\u001b[39;00m(key) \u001b[38;5;28;01mfrom\u001b[39;00m\u001b[38;5;250m \u001b[39m\u001b[34;01merr\u001b[39;00m\n\u001b[32m   3820\u001b[39m \u001b[38;5;28;01mexcept\u001b[39;00m \u001b[38;5;167;01mTypeError\u001b[39;00m:\n\u001b[32m   3821\u001b[39m     \u001b[38;5;66;03m# If we have a listlike key, _check_indexing_error will raise\u001b[39;00m\n\u001b[32m   3822\u001b[39m     \u001b[38;5;66;03m#  InvalidIndexError. Otherwise we fall through and re-raise\u001b[39;00m\n\u001b[32m   3823\u001b[39m     \u001b[38;5;66;03m#  the TypeError.\u001b[39;00m\n\u001b[32m   3824\u001b[39m     \u001b[38;5;28mself\u001b[39m._check_indexing_error(key)\n",
      "\u001b[31mKeyError\u001b[39m: 'Priority_Group'"
     ]
    }
   ],
   "source": [
    "X = df[['Impact', 'Urgency', 'Handle_Time_hrs', 'Open_Day', 'Open_Hour']]\n",
    "y = df['Priority_Group']"
   ]
  },
  {
   "cell_type": "code",
   "execution_count": null,
   "id": "88d3576b",
   "metadata": {},
   "outputs": [],
   "source": [
    "print(X['Urgency'].apply(type).value_counts())\n"
   ]
  },
  {
   "cell_type": "code",
   "execution_count": null,
   "id": "7b9c38cd",
   "metadata": {},
   "outputs": [],
   "source": [
    "X['Urgency'] = X['Urgency'].astype(str)  # Force all values to strings (e.g., \"3\", \"NS\")"
   ]
  },
  {
   "cell_type": "code",
   "execution_count": null,
   "id": "09227d1b",
   "metadata": {},
   "outputs": [],
   "source": [
    "from sklearn.preprocessing import LabelEncoder\n",
    "le = LabelEncoder()\n",
    "X['Urgency_Encoded'] = le.fit_transform(X['Urgency'])  # Encode as integers"
   ]
  },
  {
   "cell_type": "code",
   "execution_count": null,
   "id": "e4162974",
   "metadata": {},
   "outputs": [],
   "source": [
    "print(\"Encoded Classes:\", le.classes_)  # e.g., ['1', '2', '3', '4', 'NS']\n",
    "print(\"Encoded Values:\", X['Urgency_Encoded'].unique())  # e.g., [0, 1, 2, 3, 4]"
   ]
  },
  {
   "cell_type": "code",
   "execution_count": null,
   "id": "2a250a9e",
   "metadata": {},
   "outputs": [],
   "source": [
    "from sklearn.preprocessing import LabelEncoder\n",
    "le = LabelEncoder()\n",
    "X['Impact'] = le.fit_transform(X['Impact'])\n",
    "X['Urgency'] = le.fit_transform(X['Urgency'])"
   ]
  },
  {
   "cell_type": "code",
   "execution_count": null,
   "id": "8ec55700",
   "metadata": {},
   "outputs": [],
   "source": [
    "# Detect non-numeric columns that should be numeric\n",
    "for col in X_train.columns:\n",
    "    if X_train[col].dtype == object:\n",
    "        sample = X_train[col].dropna().iloc[0]\n",
    "        if isinstance(sample, str) and ',' in sample:\n",
    "            print(f\"Column '{col}' has comma-separated values (e.g., '{sample}')\")"
   ]
  },
  {
   "cell_type": "code",
   "execution_count": null,
   "id": "28c420e6",
   "metadata": {},
   "outputs": [],
   "source": [
    "def clean_numeric(value):\n",
    "    if isinstance(value, str):\n",
    "        # Take first part before comma, replace commas with decimals if needed\n",
    "        return float(value.split(',')[0].replace(',', '.'))\n",
    "    return float(value)\n",
    "\n",
    "X_train['Handle_Time_hrs'] = X_train['Handle_Time_hrs'].apply(clean_numeric)\n",
    "X_test['Handle_Time_hrs'] = X_test['Handle_Time_hrs'].apply(clean_numeric)"
   ]
  },
  {
   "cell_type": "code",
   "execution_count": null,
   "id": "7f29d06f",
   "metadata": {},
   "outputs": [],
   "source": [
    "print(X_train.dtypes)\n",
    "# Output should show no `object` dtype columns (unless they're categorical)"
   ]
  },
  {
   "cell_type": "code",
   "execution_count": null,
   "id": "1db90321",
   "metadata": {},
   "outputs": [],
   "source": [
    "from sklearn.ensemble import RandomForestClassifier\n",
    "model = RandomForestClassifier(n_estimators=100, random_state=42)\n",
    "model.fit(X_train, y_train)  # Should work now!"
   ]
  },
  {
   "cell_type": "code",
   "execution_count": null,
   "id": "35b78956",
   "metadata": {},
   "outputs": [],
   "source": [
    "from sklearn.model_selection import train_test_split\n",
    "X_train, X_test, y_train, y_test = train_test_split(X, y, test_size=0.3, random_state=42)"
   ]
  },
  {
   "cell_type": "code",
   "execution_count": null,
   "id": "c784fa41",
   "metadata": {},
   "outputs": [],
   "source": []
  }
 ],
 "metadata": {
  "kernelspec": {
   "display_name": ".venv",
   "language": "python",
   "name": "python3"
  },
  "language_info": {
   "codemirror_mode": {
    "name": "ipython",
    "version": 3
   },
   "file_extension": ".py",
   "mimetype": "text/x-python",
   "name": "python",
   "nbconvert_exporter": "python",
   "pygments_lexer": "ipython3",
   "version": "3.12.6"
  }
 },
 "nbformat": 4,
 "nbformat_minor": 5
}
