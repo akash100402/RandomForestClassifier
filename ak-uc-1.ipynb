{
 "cells": [
  {
   "cell_type": "code",
   "execution_count": null,
   "id": "4a2f639f",
   "metadata": {},
   "outputs": [],
   "source": [
    "import pandas as pd\n",
    "import numpy as np\n",
    "from sklearn.preprocessing import LabelEncoder, StandardScaler\n",
    "from sklearn.model_selection import train_test_split, GridSearchCV\n",
    "from sklearn.svm import SVC\n",
    "from sklearn.metrics import classification_report, confusion_matrix\n",
    "import matplotlib.pyplot as plt"
   ]
  },
  {
   "cell_type": "code",
   "execution_count": null,
   "id": "2e889a9b",
   "metadata": {},
   "outputs": [],
   "source": [
    "df = pd.read_csv(\"ITSM_data.csv\", low_memory=False)\n",
    "df.head(3)  # Verify structure matches your sample\n",
    "df.info()  # Check dtypes and missing values"
   ]
  },
  {
   "cell_type": "code",
   "execution_count": null,
   "id": "08ce85fc",
   "metadata": {},
   "outputs": [],
   "source": [
    "drop_cols = [\n",
    "    'Incident_ID', 'Status', 'Open_Time', 'Reopen_Time', \n",
    "    'Resolved_Time', 'Close_Time', 'KB_number', 'Alert_Status',\n",
    "    'Related_Interaction', 'Related_Change', 'WBS'\n",
    "]\n",
    "df = df.drop(columns=[col for col in drop_cols if col in df.columns])"
   ]
  },
  {
   "cell_type": "code",
   "execution_count": null,
   "id": "2b9cc9b5",
   "metadata": {},
   "outputs": [],
   "source": [
    "# Convert to numeric, coercing errors to NaN\n",
    "df['Priority'] = pd.to_numeric(df['Priority'], errors='coerce')\n",
    "\n",
    "# Drop rows where Priority is NaN/NS/NA (invalid labels)\n",
    "df = df.dropna(subset=['Priority'])\n",
    "\n",
    "# Now create binary target safely\n",
    "df['is_high_priority'] = df['Priority'].apply(lambda x: 1 if x in [1, 2] else 0)"
   ]
  },
  {
   "cell_type": "code",
   "execution_count": null,
   "id": "88906ff0",
   "metadata": {},
   "outputs": [],
   "source": [
    "# Clean Handle_Time_hrs (example for one format)\n",
    "# 1. Clean numeric columns with special strings\n",
    "def clean_numeric(col):\n",
    "    return pd.to_numeric(col, errors='coerce').fillna(0)  # Converts 'NS'/'NA' to 0\n",
    "\n",
    "numeric_cols = ['Impact', 'Urgency', 'No_of_Reassignments', \n",
    "                'No_of_Related_Interactions', 'No_of_Related_Incidents']\n",
    "for col in numeric_cols:\n",
    "    df[col] = clean_numeric(df[col])\n",
    "\n",
    "# 2. Verify all numeric columns\n",
    "print(df[numeric_cols].dtypes)\n",
    "\n",
    "def clean_handle_time(x):\n",
    "    if isinstance(x, str): \n",
    "        return sum(float(i.replace(',', '.')) for i in x.split(','))\n",
    "    return x\n",
    "\n",
    "df['Handle_Time_hrs'] = df['Handle_Time_hrs'].apply(clean_handle_time)\n",
    "\n",
    "# Create new features\n",
    "df['is_reassigned'] = (df['No_of_Reassignments'] > 0).astype(int)\n",
    "df['interaction_ratio'] = df['No_of_Related_Interactions'] / (df['No_of_Related_Incidents'] + 1)"
   ]
  },
  {
   "cell_type": "code",
   "execution_count": null,
   "id": "6d9c4c3e",
   "metadata": {},
   "outputs": [],
   "source": [
    "# Encode ONLY true categorical columns (not numeric ones)\n",
    "cat_cols = ['CI_Name', 'CI_Cat', 'CI_Subcat', 'Category', 'Closure_Code']\n",
    "df[cat_cols] = df[cat_cols].astype(str)  # Ensure string type\n",
    "\n",
    "# Label Encoding\n",
    "label_encoders = {}\n",
    "for col in cat_cols:\n",
    "    le = LabelEncoder()\n",
    "    df[col] = le.fit_transform(df[col])\n",
    "    label_encoders[col] = le"
   ]
  },
  {
   "cell_type": "code",
   "execution_count": null,
   "id": "d1a38555",
   "metadata": {},
   "outputs": [],
   "source": [
    "# Check for remaining non-numeric values\n",
    "non_numeric = df.select_dtypes(include=['object', 'category'])\n",
    "assert non_numeric.empty, f\"Non-numeric cols remaining: {non_numeric.columns.tolist()}\""
   ]
  },
  {
   "cell_type": "code",
   "execution_count": null,
   "id": "f55c7b40",
   "metadata": {},
   "outputs": [],
   "source": [
    "X = df.drop(['Priority', 'is_high_priority'], axis=1)\n",
    "y = df['is_high_priority']\n",
    "\n",
    "# Scale features\n",
    "scaler = StandardScaler()\n",
    "X_scaled = scaler.fit_transform(X)\n",
    "\n",
    "# Split data\n",
    "X_train, X_test, y_train, y_test = train_test_split(\n",
    "    X_scaled, y, test_size=0.3, random_state=42\n",
    ")"
   ]
  },
  {
   "cell_type": "code",
   "execution_count": null,
   "id": "1367fe56",
   "metadata": {},
   "outputs": [],
   "source": [
    "from sklearn.impute import SimpleImputer\n",
    "\n",
    "# 1. Impute missing values (NaNs)\n",
    "imputer = SimpleImputer(strategy='median')  # For numeric features\n",
    "X_train = imputer.fit_transform(X_train)\n",
    "X_test = imputer.transform(X_test)\n",
    "\n",
    "# 2. Now scale your data\n",
    "scaler = StandardScaler()\n",
    "X_train_scaled = scaler.fit_transform(X_train)\n",
    "X_test_scaled = scaler.transform(X_test)"
   ]
  },
  {
   "cell_type": "code",
   "execution_count": null,
   "id": "50479b85",
   "metadata": {},
   "outputs": [],
   "source": [
    "model = SVC(\n",
    "    kernel='rbf',\n",
    "    class_weight='balanced',\n",
    "    probability=True,\n",
    "    random_state=42\n",
    ")\n",
    "\n",
    "model.fit(X_train, y_train)"
   ]
  },
  {
   "cell_type": "code",
   "execution_count": null,
   "id": "2e11488a",
   "metadata": {},
   "outputs": [],
   "source": [
    "y_pred = model.predict(X_test)\n",
    "\n",
    "print(\"Confusion Matrix:\")\n",
    "print(confusion_matrix(y_test, y_pred))\n",
    "\n",
    "print(\"\\nClassification Report:\")\n",
    "print(classification_report(y_test, y_pred))"
   ]
  },
  {
   "cell_type": "code",
   "execution_count": null,
   "id": "43a5bbd0",
   "metadata": {},
   "outputs": [],
   "source": [
    "from sklearn.inspection import permutation_importance\n",
    "\n",
    "# Calculate permutation importance\n",
    "result = permutation_importance(\n",
    "    model,  # Your RBF-kernel SVM\n",
    "    X_test_scaled, \n",
    "    y_test,\n",
    "    n_repeats=10,\n",
    "    random_state=42\n",
    ")\n",
    "\n",
    "# Plot\n",
    "sorted_idx = result.importances_mean.argsort()\n",
    "plt.figure(figsize=(10,6))\n",
    "plt.boxplot(\n",
    "    result.importances[sorted_idx].T,\n",
    "    vert=False,\n",
    "    labels=X.columns[sorted_idx]\n",
    ")\n",
    "plt.title(\"Permutation Importance (RBF Kernel)\")\n",
    "plt.show()"
   ]
  },
  {
   "cell_type": "code",
   "execution_count": null,
   "id": "f900742e",
   "metadata": {},
   "outputs": [],
   "source": [
    "param_grid = {\n",
    "    'C': [0.1, 1, 10],\n",
    "    'gamma': ['scale', 'auto']\n",
    "}\n",
    "\n",
    "grid = GridSearchCV(SVC(kernel='rbf', class_weight='balanced'), \n",
    "                   param_grid, cv=5, scoring='f1')\n",
    "grid.fit(X_train, y_train)\n",
    "\n",
    "print(\"Best parameters:\", grid.best_params_)\n",
    "best_model = grid.best_estimator_"
   ]
  },
  {
   "cell_type": "code",
   "execution_count": null,
   "id": "5ee5f618",
   "metadata": {},
   "outputs": [],
   "source": []
  }
 ],
 "metadata": {
  "kernelspec": {
   "display_name": "base",
   "language": "python",
   "name": "python3"
  },
  "language_info": {
   "codemirror_mode": {
    "name": "ipython",
    "version": 3
   },
   "file_extension": ".py",
   "mimetype": "text/x-python",
   "name": "python",
   "nbconvert_exporter": "python",
   "pygments_lexer": "ipython3",
   "version": "3.12.7"
  }
 },
 "nbformat": 4,
 "nbformat_minor": 5
}
